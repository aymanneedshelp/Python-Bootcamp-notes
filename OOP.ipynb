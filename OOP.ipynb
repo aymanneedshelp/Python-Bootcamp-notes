{
 "cells": [
  {
   "cell_type": "markdown",
   "metadata": {},
   "source": [
    "# Object Oriented Programming"
   ]
  },
  {
   "cell_type": "markdown",
   "metadata": {},
   "source": [
    "Class: blueprint that defines the nature of a future object (follow CamelCasing)\n",
    "\n",
    "Instance: specific object created from a particular class\n",
    "\n",
    "Attributes of a class: we use def to create them, they are characeristics of the object, no need of () to call\n",
    "\n",
    "**init** is called whenever we create an instance of a class\n",
    "\n",
    "**self** connects the method to the instance of the class\n",
    "\n",
    "Class Object Attribute: Same for any instance of a class (doesn't need self)(Will not change depending on input params)\n",
    "\n",
    "Methods: Functions defined inside a class and are used to perform operations that utilize attributes of the object created (Operations / actions). Methods need to be executed -- use ( ). Methods can take outisde arguments."
   ]
  },
  {
   "cell_type": "code",
   "execution_count": 49,
   "metadata": {},
   "outputs": [],
   "source": [
    "#crated a class\n",
    "class Dog():\n",
    "    \n",
    "    #class object attribute\n",
    "    species = \"Mammal\"\n",
    "    \n",
    "    #creating attributes\n",
    "    def  __init__ (self,breed,name):\n",
    "        #self.attribute_name = attribute (whatever is entered in the parameter)\n",
    "        self.breed = breed\n",
    "        self.name = name\n",
    "        \n",
    "    #creating methods (self used to connect it to the object - dog)\n",
    "    def bark(self,number):\n",
    "        print(\"WOOF! I am {} and your number is {} \".format(self.name,number))"
   ]
  },
  {
   "cell_type": "code",
   "execution_count": 50,
   "metadata": {},
   "outputs": [],
   "source": [
    "#created an instance of the class\n",
    "my_dog = Dog(\"Lab\",\"Flash\")"
   ]
  },
  {
   "cell_type": "code",
   "execution_count": 51,
   "metadata": {},
   "outputs": [
    {
     "data": {
      "text/plain": [
       "__main__.Dog"
      ]
     },
     "execution_count": 51,
     "metadata": {},
     "output_type": "execute_result"
    }
   ],
   "source": [
    "type(my_dog)"
   ]
  },
  {
   "cell_type": "code",
   "execution_count": 52,
   "metadata": {},
   "outputs": [
    {
     "name": "stdout",
     "output_type": "stream",
     "text": [
      "Lab\n",
      "Flash\n",
      "Mammal\n"
     ]
    }
   ],
   "source": [
    "print(my_dog.breed) #checking the attribute of the my_dog object\n",
    "print(my_dog.name)\n",
    "print(my_dog.species)"
   ]
  },
  {
   "cell_type": "code",
   "execution_count": 53,
   "metadata": {},
   "outputs": [
    {
     "name": "stdout",
     "output_type": "stream",
     "text": [
      "WOOF! I am Flash and your number is 3 \n"
     ]
    }
   ],
   "source": [
    "my_dog.bark(3)"
   ]
  },
  {
   "cell_type": "code",
   "execution_count": 59,
   "metadata": {},
   "outputs": [],
   "source": [
    "#creating another class for practice :)\n",
    "class Circle():\n",
    "    #class object attribute (fixed)\n",
    "    pi = 3.14\n",
    "    \n",
    "    def __init__(self,radius=1): #inserting a default value\n",
    "        self.radius = radius\n",
    "        # self.area = self.pi*self.radius**2 (we can also just mention it as an attribute)\n",
    "        \n",
    "    def circumference(self):\n",
    "        c = self.radius * self.pi * 2\n",
    "        return c\n",
    "    \n",
    "    def area(self):\n",
    "        a = self.pi * self.radius ** 2\n",
    "        return a"
   ]
  },
  {
   "cell_type": "code",
   "execution_count": 58,
   "metadata": {},
   "outputs": [
    {
     "name": "stdout",
     "output_type": "stream",
     "text": [
      "3.14\n",
      "5\n",
      "78.5\n",
      "31.400000000000002\n"
     ]
    }
   ],
   "source": [
    "my_circle = Circle(5)\n",
    "print(my_circle.pi)\n",
    "print(my_circle.radius)\n",
    "print(my_circle.area())\n",
    "print(my_circle.circumference())"
   ]
  },
  {
   "cell_type": "code",
   "execution_count": null,
   "metadata": {},
   "outputs": [],
   "source": []
  }
 ],
 "metadata": {
  "kernelspec": {
   "display_name": "Python 3",
   "language": "python",
   "name": "python3"
  },
  "language_info": {
   "codemirror_mode": {
    "name": "ipython",
    "version": 3
   },
   "file_extension": ".py",
   "mimetype": "text/x-python",
   "name": "python",
   "nbconvert_exporter": "python",
   "pygments_lexer": "ipython3",
   "version": "3.8.5"
  }
 },
 "nbformat": 4,
 "nbformat_minor": 4
}
