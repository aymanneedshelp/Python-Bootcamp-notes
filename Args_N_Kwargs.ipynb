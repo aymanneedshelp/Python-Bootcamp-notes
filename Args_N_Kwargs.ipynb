{
 "cells": [
  {
   "cell_type": "markdown",
   "metadata": {},
   "source": [
    "# *args: arguments\n",
    "in the case that we want to accept an unknown number of arguments in a function, then we use the asterisk in the argument as they are stored in a tuple."
   ]
  },
  {
   "cell_type": "code",
   "execution_count": 1,
   "metadata": {},
   "outputs": [],
   "source": [
    "def func(*args):\n",
    "    print(args)\n",
    "    return sum(args)"
   ]
  },
  {
   "cell_type": "code",
   "execution_count": 2,
   "metadata": {},
   "outputs": [
    {
     "name": "stdout",
     "output_type": "stream",
     "text": [
      "(2, 1, 20)\n"
     ]
    },
    {
     "data": {
      "text/plain": [
       "23"
      ]
     },
     "execution_count": 2,
     "metadata": {},
     "output_type": "execute_result"
    }
   ],
   "source": [
    "func(2,1,20)"
   ]
  },
  {
   "cell_type": "markdown",
   "metadata": {},
   "source": [
    "# **kwargs: keyword arguments\n",
    "in the case that we want to accept an unknown number of keyword arguments in a function, then we use **kwargs, they are stored in a dictionary so we can use the .format() method"
   ]
  },
  {
   "cell_type": "code",
   "execution_count": 3,
   "metadata": {},
   "outputs": [],
   "source": [
    "def func2(**kwargs):\n",
    "    print(kwargs)\n",
    "    if 'fruit' in kwargs: #we are looking for a particular variable name in the dictionary\n",
    "        print(\"Fruit of choice is {}\".format(kwargs['fruit'])) #using the format method to insert the value from the dict\n",
    "    else:\n",
    "        print(\"No fruit\")"
   ]
  },
  {
   "cell_type": "code",
   "execution_count": 4,
   "metadata": {},
   "outputs": [
    {
     "name": "stdout",
     "output_type": "stream",
     "text": [
      "{'fruit': 'apple', 'veggie': 'lettuce'}\n",
      "Fruit of choice is apple\n"
     ]
    }
   ],
   "source": [
    "func2(fruit=\"apple\",veggie=\"lettuce\")"
   ]
  },
  {
   "cell_type": "markdown",
   "metadata": {},
   "source": [
    "# Using both *args and **kwargs\n",
    "In some cases we can accept both, we just have to be weary when using this in the function. We have to input values in the order (i.e. if it is def xyz(*args,**kwargs) we must enter all the args first then the kwargs.\n",
    "\n",
    "Uses: external libraries"
   ]
  },
  {
   "cell_type": "code",
   "execution_count": 6,
   "metadata": {},
   "outputs": [],
   "source": [
    "def func3(*args,**kwargs):\n",
    "    print(\"The token number {} is for {}\".format(args[0],kwargs['food'])) "
   ]
  },
  {
   "cell_type": "code",
   "execution_count": 7,
   "metadata": {},
   "outputs": [
    {
     "name": "stdout",
     "output_type": "stream",
     "text": [
      "The token number 127 is for Bread\n"
     ]
    }
   ],
   "source": [
    "func3(127,1235,12,art=\"picasso\",tech=\"iPhone\",food=\"Bread\")"
   ]
  },
  {
   "cell_type": "code",
   "execution_count": null,
   "metadata": {},
   "outputs": [],
   "source": []
  }
 ],
 "metadata": {
  "kernelspec": {
   "display_name": "Python 3",
   "language": "python",
   "name": "python3"
  },
  "language_info": {
   "codemirror_mode": {
    "name": "ipython",
    "version": 3
   },
   "file_extension": ".py",
   "mimetype": "text/x-python",
   "name": "python",
   "nbconvert_exporter": "python",
   "pygments_lexer": "ipython3",
   "version": "3.8.5"
  }
 },
 "nbformat": 4,
 "nbformat_minor": 4
}
