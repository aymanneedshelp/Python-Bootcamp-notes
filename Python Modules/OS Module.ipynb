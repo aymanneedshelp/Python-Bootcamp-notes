{
 "cells": [
  {
   "cell_type": "markdown",
   "metadata": {},
   "source": [
    "**Shutil & OS**\n",
    "\n",
    "used to open and manipulate file directories"
   ]
  },
  {
   "cell_type": "code",
   "execution_count": 3,
   "metadata": {},
   "outputs": [
    {
     "data": {
      "text/plain": [
       "'/Users/ayman/Documents/Coding/PracticeStuff/Udemy Course stuff/Modules'"
      ]
     },
     "execution_count": 3,
     "metadata": {},
     "output_type": "execute_result"
    }
   ],
   "source": [
    "pwd"
   ]
  },
  {
   "cell_type": "code",
   "execution_count": 5,
   "metadata": {},
   "outputs": [
    {
     "data": {
      "text/plain": [
       "<function TextIOWrapper.close()>"
      ]
     },
     "execution_count": 5,
     "metadata": {},
     "output_type": "execute_result"
    }
   ],
   "source": [
    "#we already know how to create text files\n",
    "f = open('practice.txt', 'w')\n",
    "f.write(\"This is a test string\")\n",
    "f.close"
   ]
  },
  {
   "cell_type": "code",
   "execution_count": 6,
   "metadata": {},
   "outputs": [
    {
     "data": {
      "text/plain": [
       "'/Users/ayman/Documents/Coding/PracticeStuff/Udemy Course stuff/Modules'"
      ]
     },
     "execution_count": 6,
     "metadata": {},
     "output_type": "execute_result"
    }
   ],
   "source": [
    "import os\n",
    "os.getcwd()"
   ]
  },
  {
   "cell_type": "code",
   "execution_count": 7,
   "metadata": {},
   "outputs": [
    {
     "data": {
      "text/plain": [
       "['practice.txt', 'OS Module.ipynb', 'Collections.ipynb', '.ipynb_checkpoints']"
      ]
     },
     "execution_count": 7,
     "metadata": {},
     "output_type": "execute_result"
    }
   ],
   "source": [
    "os.listdir()"
   ]
  },
  {
   "cell_type": "code",
   "execution_count": 8,
   "metadata": {},
   "outputs": [
    {
     "data": {
      "text/plain": [
       "['.localized', 'Shared', 'ayman', 'Guest']"
      ]
     },
     "execution_count": 8,
     "metadata": {},
     "output_type": "execute_result"
    }
   ],
   "source": [
    "os.listdir(\"/Users\")"
   ]
  },
  {
   "cell_type": "markdown",
   "metadata": {},
   "source": [
    "Move files around"
   ]
  },
  {
   "cell_type": "code",
   "execution_count": 11,
   "metadata": {
    "scrolled": true
   },
   "outputs": [
    {
     "data": {
      "text/plain": [
       "'/Users/ayman/Documents/Coding/PracticeStuff/Udemy Course stuff/practice.txt'"
      ]
     },
     "execution_count": 11,
     "metadata": {},
     "output_type": "execute_result"
    }
   ],
   "source": [
    "#move files around\n",
    "import shutil\n",
    "shutil.move('practice.txt','/Users/ayman/Documents/Coding/PracticeStuff/Udemy Course stuff') #(source,destination)"
   ]
  },
  {
   "cell_type": "markdown",
   "metadata": {},
   "source": [
    "Deleting Files"
   ]
  },
  {
   "cell_type": "markdown",
   "metadata": {},
   "source": [
    "os.unlink(path) --> single file\n",
    "\n",
    "os.rmdir(path) will remove directory (empty folder)\n",
    "\n",
    "shutit.rmtree(path) will remove all files and folders contained in the path (cannot be undone)\n",
    "\n",
    "if you want to just delete files to trash use send2trash"
   ]
  },
  {
   "cell_type": "code",
   "execution_count": 14,
   "metadata": {},
   "outputs": [],
   "source": [
    "from send2trash import send2trash\n",
    "send2trash('/Users/ayman/Documents/Coding/PracticeStuff/Udemy Course stuff/practice.txt') #it is now in my trash"
   ]
  },
  {
   "cell_type": "markdown",
   "metadata": {},
   "source": [
    "Directory Tree Generator"
   ]
  },
  {
   "cell_type": "code",
   "execution_count": 17,
   "metadata": {},
   "outputs": [
    {
     "name": "stdout",
     "output_type": "stream",
     "text": [
      "Currently looking at /Users/ayman/Documents/Coding/PracticeStuff/Udemy Course stuff/Modules\n",
      "\n",
      "The subfolders are:\n",
      "Subfolder: .ipynb_checkpoints\n",
      "\n",
      "The files are:\n",
      "File: OS Module.ipynb\n",
      "File: Collections.ipynb\n",
      "Currently looking at /Users/ayman/Documents/Coding/PracticeStuff/Udemy Course stuff/Modules/.ipynb_checkpoints\n",
      "\n",
      "The subfolders are:\n",
      "\n",
      "The files are:\n",
      "File: Collections-checkpoint.ipynb\n",
      "File: OS Module-checkpoint.ipynb\n"
     ]
    }
   ],
   "source": [
    "for folder, sub_folder,files in os.walk(os.getcwd()):\n",
    "    print(f\"Currently looking at {folder}\")\n",
    "    print()\n",
    "    print(\"The subfolders are:\")\n",
    "    for subfold in sub_folder:\n",
    "        print(f\"Subfolder: {subfold}\")\n",
    "    print()\n",
    "    print(\"The files are:\")\n",
    "    for f in files:\n",
    "        print(f\"File: {f}\")"
   ]
  },
  {
   "cell_type": "code",
   "execution_count": null,
   "metadata": {},
   "outputs": [],
   "source": []
  }
 ],
 "metadata": {
  "kernelspec": {
   "display_name": "Python 3",
   "language": "python",
   "name": "python3"
  },
  "language_info": {
   "codemirror_mode": {
    "name": "ipython",
    "version": 3
   },
   "file_extension": ".py",
   "mimetype": "text/x-python",
   "name": "python",
   "nbconvert_exporter": "python",
   "pygments_lexer": "ipython3",
   "version": "3.8.5"
  }
 },
 "nbformat": 4,
 "nbformat_minor": 4
}
